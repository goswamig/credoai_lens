{
 "cells": [
  {
   "cell_type": "markdown",
   "id": "118adbe4",
   "metadata": {},
   "source": [
    "# Connecting with the Credo AI Governance Platform\n",
    "\n",
    "## Overview\n",
    "Connecting with the Credo AI Governance Platform is straightforward using Lens. After following this tutorial you'll be up and running!\n",
    "\n",
    "### Config File\n",
    "First, ensure you have a `config` file somewhere on your computer. The default location where Lens will look for it is `~/.credoconfig`. The structure of the config should look like this\n",
    "\n",
    "```\n",
    "TENANT={tenant name} # Example: credoai\n",
    "CREDO_URL=<your credo url>  # Example: https://api.credo.ai \n",
    "API_KEY=<your api key> # Example: JSMmd26...\n",
    "```\n",
    "\n",
    "This config gives Lens API access to the Governance Platform.\n",
    "\n",
    "### Connecting to a particular model, dataset, or AI Solution\n",
    "\n",
    "Lens connects to the Governance Platform via a `CredoGovernance` object. This specifies the IDs of the AI Solution, model and data you want to associate your assessments with. The IDs are found in the url of your AI solution or model.\n",
    "\n",
    "For instance, the AI Solution ID is found here: `...credo.com/ai-solutions/{ai_solution_id}`\n",
    "\n",
    "And the model Id is found here: `...credo.com/models/{model_id}`"
   ]
  },
  {
   "cell_type": "markdown",
   "id": "67fc56dd",
   "metadata": {},
   "source": [
    "## Train your Model\n",
    "\n",
    "Some quick setup... This is all of your datascience work before assessment and integration with Credo AI."
   ]
  },
  {
   "cell_type": "code",
   "execution_count": null,
   "id": "a369c193",
   "metadata": {},
   "outputs": [],
   "source": [
    "# imports for example data and model training\n",
    "from credoai.data import fetch_creditdefault\n",
    "from sklearn.ensemble import GradientBoostingClassifier\n",
    "\n",
    "# Base Lens imports\n",
    "import credoai.lens as cl"
   ]
  },
  {
   "cell_type": "code",
   "execution_count": null,
   "id": "007fbef5",
   "metadata": {},
   "outputs": [],
   "source": [
    "data = fetch_creditdefault()\n",
    "X = data['data'].drop(columns=['SEX'])\n",
    "y = data['target']\n",
    "sensitive_feature = data['data']['SEX']\n",
    "\n",
    "model = GradientBoostingClassifier()\n",
    "model.fit(X,y)"
   ]
  },
  {
   "cell_type": "markdown",
   "id": "5c3565bc",
   "metadata": {},
   "source": [
    "## Using Lens\n",
    "\n",
    "This is going to be familiar if you've gone through our quickstart tutorial! The only addition is the use of a `CredoGovernance` object.\n",
    "\n",
    "The CredoGovernance object gives Lens a few features.\n",
    "\n",
    "* The ability to get an alignment spec from the AI Solution (created during the aligned process). This alignment spec can be supplemented (or overwritten) with an alignment spec you define in code and pass to Lens.\n",
    "* The ability to easily export metrics and reports.\n",
    "\n",
    "\\* **Note** \\* The metrics and reports will _either_ be exported to the model and data specified in by `CredoGovernance` (using the `model_id` and `data_id` arguments) OR a new model and data will be registered on your CredoGovernance platform automatically, which will then be used for export.\n",
    "\n",
    "With that said, let's see how this works in practice."
   ]
  },
  {
   "cell_type": "code",
   "execution_count": null,
   "id": "d1ae45f5",
   "metadata": {},
   "outputs": [],
   "source": [
    "credo_model = cl.CredoModel(name='credit_default_classifier',\n",
    "                            model=model)\n",
    "\n",
    "credo_data = cl.CredoData(name='UCI-credit-default',\n",
    "                          X=X, \n",
    "                          y=y.astype(int),\n",
    "                          sensitive_features=sensitive_feature)\n",
    "\n",
    "# NOTE! This extra artifact is needed to connect to Credo AI's Governance Platform\n",
    "credo_governance = cl.CredoGovernance(ai_solution_id=\"your-ai-solution-id\",\n",
    "                                      model_id=\"your-model-id\"\n",
    "                                     )"
   ]
  },
  {
   "cell_type": "code",
   "execution_count": null,
   "id": "7f2b83fa",
   "metadata": {},
   "outputs": [],
   "source": [
    "# specify the metrics that will be used by the FairnessBase assessment. \n",
    "# This spec will supplement (or overide!) whatever spec is \n",
    "# pulled down from the Governance Platform\n",
    "alignment_spec = {\n",
    "    'FairnessBase': {'metrics': ['precision_score']}\n",
    "}"
   ]
  },
  {
   "cell_type": "markdown",
   "id": "1be955e8",
   "metadata": {},
   "source": [
    "#### Run Lens\n",
    "\n",
    "In addition to the model and data, we can pass the CredoGovernance object. This is how Lens knows which AI solution, model and/or data to interacts with. If you are running assessments on multiple models, you'll create a separate `CredoGovernance` object (and separate Lens instances) for each.\n",
    "\n",
    "That's it!"
   ]
  },
  {
   "cell_type": "code",
   "execution_count": null,
   "id": "598258d5",
   "metadata": {},
   "outputs": [],
   "source": [
    "from credoai.assessment import FairnessBaseAssessment\n",
    "lens = cl.Lens(model=credo_model,\n",
    "               governance=credo_governance,\n",
    "               assessments = [FairnessBaseAssessment()],\n",
    "               data=credo_data,\n",
    "               spec=alignment_spec)"
   ]
  },
  {
   "cell_type": "code",
   "execution_count": null,
   "id": "f0ff7c60",
   "metadata": {},
   "outputs": [],
   "source": [
    "# just add the export option and the metrics will be sent to the Governance Platform.\n",
    "lens.run_assessments(export=True)"
   ]
  },
  {
   "cell_type": "code",
   "execution_count": null,
   "id": "165d0657",
   "metadata": {},
   "outputs": [],
   "source": [
    "# Reports can be exported too!\n",
    "lens.create_reports(export=True)"
   ]
  },
  {
   "cell_type": "markdown",
   "id": "0680acb3-65af-4aa9-a4db-862f01e7241d",
   "metadata": {},
   "source": [
    "## Explicitly registering model and data artifacts\n",
    "\n",
    "While Lens will take care of registering a model and data for you if no `model_id` or `data_id` is provided, you can also manually register models yourself. \n",
    "\n",
    "This is helpful if you want to run Lens multiple times. First you would register a new model and/or data, and then used the returned IDs in a CredoGovernance object."
   ]
  },
  {
   "cell_type": "code",
   "execution_count": 6,
   "id": "1aa7516f-139f-45bc-be82-2df731f61d40",
   "metadata": {},
   "outputs": [],
   "source": [
    "import credoai.integration as ci"
   ]
  },
  {
   "cell_type": "markdown",
   "id": "ab48c235-cd37-47ec-8b0d-1c720584baf5",
   "metadata": {},
   "source": [
    "### Registering a Project and Model(s)\n",
    "\n",
    "Models are organized under Projects. If you register a Model, a Project will be automatically created to house the Model.\n",
    "\n",
    "If a Project already exists that you'd like to use you can supply the Project ID to the `project_id` argument."
   ]
  },
  {
   "cell_type": "code",
   "execution_count": 7,
   "id": "74e8eef6-119b-4538-9382-b2eac037ae79",
   "metadata": {},
   "outputs": [
    {
     "data": {
      "text/plain": [
       "{'name': 'my model',\n",
       " 'model_id': '354hLxUhBsub6x5KgriBtc',\n",
       " 'project_id': '8ENSXBCyyw9B7ZNjB9VSoU'}"
      ]
     },
     "execution_count": 7,
     "metadata": {},
     "output_type": "execute_result"
    }
   ],
   "source": [
    "ids = ci.register_model(model_name='my model')\n",
    "ids"
   ]
  },
  {
   "cell_type": "code",
   "execution_count": 9,
   "id": "b8676e54-80ff-4749-ad5c-08dd52ce6b08",
   "metadata": {},
   "outputs": [],
   "source": [
    "project_id = ids['project_id']\n",
    "second_ids = ci.register_model(model_name='another model', project_id=project_id)"
   ]
  },
  {
   "cell_type": "markdown",
   "id": "ccf03812-ebae-4fcd-a5c0-facb223ee4f8",
   "metadata": {
    "jp-MarkdownHeadingCollapsed": true,
    "tags": []
   },
   "source": [
    "You can also register a project first and use the returned `project_id` to pass to registering models."
   ]
  },
  {
   "cell_type": "code",
   "execution_count": 11,
   "id": "95dc19b1-0af5-4c1e-822f-89c7471bec7f",
   "metadata": {},
   "outputs": [
    {
     "data": {
      "text/plain": [
       "{'name': 'my project', 'project_id': 'cUFdwqwncbGVkzTbwoaQBD'}"
      ]
     },
     "execution_count": 11,
     "metadata": {},
     "output_type": "execute_result"
    }
   ],
   "source": [
    "project_id = ci.register_project('my project')\n",
    "project_id"
   ]
  },
  {
   "cell_type": "code",
   "execution_count": null,
   "id": "a837ce52-aba8-47a3-8b17-bc3ec3986419",
   "metadata": {},
   "outputs": [],
   "source": []
  }
 ],
 "metadata": {
  "kernelspec": {
   "display_name": "Python 3 (ipykernel)",
   "language": "python",
   "name": "python3"
  },
  "language_info": {
   "codemirror_mode": {
    "name": "ipython",
    "version": 3
   },
   "file_extension": ".py",
   "mimetype": "text/x-python",
   "name": "python",
   "nbconvert_exporter": "python",
   "pygments_lexer": "ipython3",
   "version": "3.9.9"
  }
 },
 "nbformat": 4,
 "nbformat_minor": 5
}
