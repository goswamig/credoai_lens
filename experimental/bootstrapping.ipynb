{
 "cells": [
  {
   "cell_type": "markdown",
   "id": "c6415197",
   "metadata": {},
   "source": [
    "## Effect Size Simulations"
   ]
  },
  {
   "cell_type": "code",
   "execution_count": 1,
   "id": "7fa46cb3",
   "metadata": {},
   "outputs": [],
   "source": [
    "import matplotlib.pyplot as plt\n",
    "import numpy as np\n",
    "import pandas as pd\n",
    "from sklearn.metrics import *\n",
    "from time import time"
   ]
  },
  {
   "cell_type": "code",
   "execution_count": 2,
   "id": "e577eddf",
   "metadata": {},
   "outputs": [],
   "source": [
    "def pooled_sd(arr1, arr2):\n",
    "    n1 = len(arr1)\n",
    "    n2 = len(arr2)\n",
    "    sd1 = np.std(arr1)\n",
    "    sd2 = np.std(arr2)\n",
    "    return (((n1 - 1)*sd1**2 + (n2-1)*sd2**2) / (n1 + n2-2))**0.5"
   ]
  },
  {
   "cell_type": "code",
   "execution_count": 286,
   "id": "33799588",
   "metadata": {},
   "outputs": [],
   "source": [
    "def get_bootstrap_indices(arr, n=1000, sample_size=None):\n",
    "    if sample_size is None:\n",
    "        sample_size = len(arr)\n",
    "    return np.random.choice(np.arange(len(arr)), size=[sample_size,n], replace=True)\n",
    "\n",
    "def bootstrap_samples(y_pred, y_true=None, n=1000, sample_size=None):\n",
    "    indices = get_bootstrap_indices(y_pred, n=n, sample_size=sample_size)\n",
    "    out = {'y_pred_bootstrap': y_pred[indices]}\n",
    "    if y_true is not None:\n",
    "        out['y_true_bootstrap'] = y_true[indices]\n",
    "    return out\n",
    "\n",
    "def apply_fun(bootstrap_samples, fun, requires_y_true=True):\n",
    "    if requires_y_true:\n",
    "        zipped = zip(bootstrap_samples['y_true_bootstrap'].T, \n",
    "                     bootstrap_samples['y_pred_bootstrap'].T)\n",
    "        return np.array([fun(true, pred) for true, pred in zipped])\n",
    "    else:\n",
    "        return np.array([fun(s) for s in bootstrap_samples['y_pred_bootstrap'].T])\n",
    "\n",
    "def cohens_d(arr1, arr2, verbose=False):\n",
    "    if verbose:\n",
    "        print(f'Mean Statistic 1: {np.mean(arr1)}', \n",
    "              f'Mean Statistic 2: {np.mean(arr2)}')\n",
    "    return (np.mean(arr1)-np.mean(arr2)) / pooled_sd(arr1, arr2)\n",
    "\n",
    "def compare(samples1, samples2, fun, requires_y_true=None, verbose=True):\n",
    "    if requires_y_true is None:\n",
    "        requires_y_true = False\n",
    "        if 'y_true_bootstrap' in samples1:\n",
    "            requires_y_true = True\n",
    "    out1 = apply_fun(samples1, fun, requires_y_true)\n",
    "    out2 = apply_fun(samples2, fun, requires_y_true)\n",
    "    out = cohens_d(out1, out2, verbose=verbose)\n",
    "    return out"
   ]
  },
  {
   "cell_type": "markdown",
   "id": "9d5c9e35",
   "metadata": {},
   "source": [
    "## Simulation 1"
   ]
  },
  {
   "cell_type": "code",
   "execution_count": 257,
   "id": "253b1817",
   "metadata": {},
   "outputs": [],
   "source": [
    "dist1 = lambda size: np.random.normal(loc=10, \n",
    "                                      scale=2, \n",
    "                                      size=size)\n",
    "dist2 = lambda size: np.random.normal(loc=0, \n",
    "                                      scale=2, \n",
    "                                      size=size)\n",
    "val1 = dist1(10000)\n",
    "val2 = dist2(1000)"
   ]
  },
  {
   "cell_type": "code",
   "execution_count": 258,
   "id": "e48802ad",
   "metadata": {},
   "outputs": [],
   "source": [
    "samples1 = bootstrap_samples(val1, sample_size=None)\n",
    "samples2 = bootstrap_samples(val2, sample_size=None)\n",
    "#compare(samples1, samples2, np.mean)"
   ]
  },
  {
   "cell_type": "markdown",
   "id": "3a1c5978",
   "metadata": {},
   "source": [
    "### simple case - calculate whether distributions are different\n",
    "\n",
    "* Sample each distribution N times\n",
    "* calculate the effect size between the two distributions\n",
    "* this gives you CI around the effect size"
   ]
  },
  {
   "cell_type": "code",
   "execution_count": 259,
   "id": "1caf7f0c",
   "metadata": {},
   "outputs": [
    {
     "data": {
      "text/plain": [
       "Text(0.5, 1.0, '4.886291602681316')"
      ]
     },
     "execution_count": 259,
     "metadata": {},
     "output_type": "execute_result"
    },
    {
     "data": {
      "image/png": "[encoded data removed]",
      "text/plain": [
       "<Figure size 432x288 with 1 Axes>"
      ]
     },
     "metadata": {
      "needs_background": "light"
     },
     "output_type": "display_data"
    }
   ],
   "source": [
    "tmp1 = samples1['y_pred_bootstrap']\n",
    "tmp2 = samples2['y_pred_bootstrap']\n",
    "\n",
    "effect_sizes = [cohens_d(tmp1[:,i], tmp2[:, i]) for i in range(tmp1.shape[1])]\n",
    "h=plt.hist(effect_sizes, bins=100)\n",
    "plt.title(np.mean(effect_sizes))"
   ]
  },
  {
   "cell_type": "markdown",
   "id": "b1bcfa98",
   "metadata": {},
   "source": [
    "### What if each sample just gave one number? Like the accuracy\n",
    "\n",
    "In this case, you calculate the statistic for each sample. For instance, let's say we calculate the mean. Each of these gives a distribution of means. We get the pooled standard deviation"
   ]
  },
  {
   "cell_type": "code",
   "execution_count": 261,
   "id": "a0a4aa2e",
   "metadata": {},
   "outputs": [
    {
     "data": {
      "text/plain": [
       "<matplotlib.lines.Line2D at 0x284eb1940>"
      ]
     },
     "execution_count": 261,
     "metadata": {},
     "output_type": "execute_result"
    },
    {
     "data": {
      "image/png": "[encoded data removed]",
      "text/plain": [
       "<Figure size 432x288 with 1 Axes>"
      ]
     },
     "metadata": {
      "needs_background": "light"
     },
     "output_type": "display_data"
    }
   ],
   "source": [
    "statistic1 = np.mean(samples1['y_pred_bootstrap'], 0)\n",
    "statistic2 = np.mean(samples2['y_pred_bootstrap'], 0)\n",
    "\n",
    "diffs = statistic1-statistic2\n",
    "_ = plt.hist(diffs, bins=50)\n",
    "plt.title(f'mean: {diffs.mean()}, sd: {diffs.std()}')\n",
    "\n",
    "sample_estimate = (np.mean(val1)-np.mean(val2))\n",
    "plt.axvline(sample_estimate, color='k')"
   ]
  },
  {
   "cell_type": "markdown",
   "id": "d1d47f24",
   "metadata": {},
   "source": [
    "## Simulation 2"
   ]
  },
  {
   "cell_type": "code",
   "execution_count": 231,
   "id": "a0772eff",
   "metadata": {},
   "outputs": [],
   "source": [
    "#config\n",
    "dist1 = lambda size: np.random.exponential(size=size)\n",
    "dist2 = lambda size: np.random.normal(loc=np.random.rand(), \n",
    "                                      scale=np.random.rand(), \n",
    "                                      size=size)\n",
    "n1 = 10000\n",
    "n2 = 10000"
   ]
  },
  {
   "cell_type": "code",
   "execution_count": 232,
   "id": "1f0ddeb1",
   "metadata": {},
   "outputs": [],
   "source": [
    "def gen_pred(dists, ns):\n",
    "    return [d(n) for d,n in zip(dists,ns)]\n",
    "\n",
    "true1, true2 = gen_pred([dist1, dist1], [n1, n2])\n",
    "pred1 = true1 + np.random.normal(size=n1)*.4\n"
   ]
  },
  {
   "cell_type": "code",
   "execution_count": 233,
   "id": "d622b279",
   "metadata": {},
   "outputs": [
    {
     "data": {
      "text/plain": [
       "<matplotlib.collections.PathCollection at 0x16f67cc10>"
      ]
     },
     "execution_count": 233,
     "metadata": {},
     "output_type": "execute_result"
    },
    {
     "data": {
      "image/png": "[encoded data removed]",
      "text/plain": [
       "<Figure size 432x288 with 1 Axes>"
      ]
     },
     "metadata": {
      "needs_background": "light"
     },
     "output_type": "display_data"
    }
   ],
   "source": [
    "plt.scatter(true1, pred1, alpha=.05)"
   ]
  },
  {
   "cell_type": "markdown",
   "id": "8ffb4689",
   "metadata": {},
   "source": [
    "### First Sim"
   ]
  },
  {
   "cell_type": "code",
   "execution_count": 297,
   "id": "4da2d295",
   "metadata": {},
   "outputs": [],
   "source": [
    "pred1 = true1 + np.random.normal(size=n1)*.4\n",
    "pred2 = true2 + np.random.normal(size=n2)*.5\n",
    "\n",
    "n_boot = 2000\n",
    "sample_size=1000\n",
    "samples1 = bootstrap_samples(pred1, true1, \n",
    "                             n_boot, sample_size=sample_size)\n",
    "samples2 = bootstrap_samples(pred2, true2, \n",
    "                             n_boot, sample_size=sample_size)\n",
    "\n",
    "fun = r2_score\n",
    "requires_y_true = True\n",
    "out1 = apply_fun(samples1, fun, requires_y_true)\n",
    "out2 = apply_fun(samples2, fun, requires_y_true)"
   ]
  },
  {
   "cell_type": "code",
   "execution_count": 298,
   "id": "003a39cd",
   "metadata": {},
   "outputs": [
    {
     "data": {
      "text/plain": [
       "Text(0.5, 1.0, '3.766937991050949, 0.029009527929095235')"
      ]
     },
     "execution_count": 298,
     "metadata": {},
     "output_type": "execute_result"
    },
    {
     "data": {
      "image/png": "[encoded data removed]",
      "text/plain": [
       "<Figure size 432x288 with 1 Axes>"
      ]
     },
     "metadata": {
      "needs_background": "light"
     },
     "output_type": "display_data"
    }
   ],
   "source": [
    "dist = out1-out2\n",
    "_ = plt.hist(dist, bins=100)\n",
    "plt.title(f'{cohens_d(out1, out2)}, {np.std(dist)}')"
   ]
  },
  {
   "cell_type": "code",
   "execution_count": 308,
   "id": "eefc6429",
   "metadata": {},
   "outputs": [
    {
     "data": {
      "text/plain": [
       "0.03090232306167813"
      ]
     },
     "execution_count": 308,
     "metadata": {},
     "output_type": "execute_result"
    }
   ],
   "source": [
    "from scipy.stats import norm\n",
    "abs(norm.ppf(.001))/10000**.5"
   ]
  },
  {
   "cell_type": "code",
   "execution_count": 314,
   "id": "74dad284",
   "metadata": {},
   "outputs": [
    {
     "data": {
      "text/plain": [
       "[27055.434540954146, 1082.2173816381658, 270.55434540954144]"
      ]
     },
     "execution_count": 314,
     "metadata": {},
     "output_type": "execute_result"
    }
   ],
   "source": [
    "# convert effect sizes into needed sample size to discover at .05\n",
    "effects = [0.01, .05, .1] # small, medium, large\n",
    "p_val = .05\n",
    "sample_sizes = [(abs(norm.ppf(p_val))/e)**2 for e in effects]\n",
    "sample_sizes"
   ]
  },
  {
   "cell_type": "markdown",
   "id": "abe4644c",
   "metadata": {},
   "source": [
    "### More parameters"
   ]
  },
  {
   "cell_type": "code",
   "execution_count": 236,
   "id": "5618d954",
   "metadata": {},
   "outputs": [],
   "source": [
    "def evaluate(pred1, true1, pred2, true2, n=1000, sample_size=None):\n",
    "    samples1 = bootstrap_samples(pred1, true1, 1000, sample_size=sample_size)\n",
    "    samples2 = bootstrap_samples(pred2, true2, 1000, sample_size=sample_size)\n",
    "    effect_size = compare(samples1, samples2, r2_score, verbose=False)\n",
    "    return effect_size"
   ]
  },
  {
   "cell_type": "code",
   "execution_count": 235,
   "id": "efb3ad04",
   "metadata": {},
   "outputs": [],
   "source": [
    "noises = np.arange(0,1, .05)"
   ]
  },
  {
   "cell_type": "code",
   "execution_count": 9,
   "id": "479fb6d0",
   "metadata": {},
   "outputs": [
    {
     "ename": "NameError",
     "evalue": "name 'samples' is not defined",
     "output_type": "error",
     "traceback": [
      "\u001b[0;31m---------------------------------------------------------------------------\u001b[0m",
      "\u001b[0;31mNameError\u001b[0m                                 Traceback (most recent call last)",
      "\u001b[0;32m<ipython-input-9-3c3522853e6c>\u001b[0m in \u001b[0;36m<module>\u001b[0;34m\u001b[0m\n\u001b[1;32m      5\u001b[0m     \u001b[0mpred1\u001b[0m \u001b[0;34m=\u001b[0m \u001b[0mtrue1\u001b[0m \u001b[0;34m+\u001b[0m \u001b[0mnp\u001b[0m\u001b[0;34m.\u001b[0m\u001b[0mrandom\u001b[0m\u001b[0;34m.\u001b[0m\u001b[0mnormal\u001b[0m\u001b[0;34m(\u001b[0m\u001b[0msize\u001b[0m\u001b[0;34m=\u001b[0m\u001b[0mn1\u001b[0m\u001b[0;34m)\u001b[0m\u001b[0;34m*\u001b[0m\u001b[0;36m.4\u001b[0m\u001b[0;34m\u001b[0m\u001b[0;34m\u001b[0m\u001b[0m\n\u001b[1;32m      6\u001b[0m     \u001b[0mpred2\u001b[0m \u001b[0;34m=\u001b[0m \u001b[0mtrue2\u001b[0m \u001b[0;34m+\u001b[0m \u001b[0mnp\u001b[0m\u001b[0;34m.\u001b[0m\u001b[0mrandom\u001b[0m\u001b[0;34m.\u001b[0m\u001b[0mnormal\u001b[0m\u001b[0;34m(\u001b[0m\u001b[0msize\u001b[0m\u001b[0;34m=\u001b[0m\u001b[0mn2\u001b[0m\u001b[0;34m)\u001b[0m\u001b[0;34m*\u001b[0m\u001b[0mcomparison_noise\u001b[0m\u001b[0;34m\u001b[0m\u001b[0;34m\u001b[0m\u001b[0m\n\u001b[0;32m----> 7\u001b[0;31m     \u001b[0mresults\u001b[0m\u001b[0;34m.\u001b[0m\u001b[0mappend\u001b[0m\u001b[0;34m(\u001b[0m\u001b[0mevaluate\u001b[0m\u001b[0;34m(\u001b[0m\u001b[0mpred1\u001b[0m\u001b[0;34m,\u001b[0m \u001b[0mtrue1\u001b[0m\u001b[0;34m,\u001b[0m \u001b[0mpred2\u001b[0m\u001b[0;34m,\u001b[0m \u001b[0mtrue2\u001b[0m\u001b[0;34m)\u001b[0m\u001b[0;34m)\u001b[0m\u001b[0;34m\u001b[0m\u001b[0;34m\u001b[0m\u001b[0m\n\u001b[0m\u001b[1;32m      8\u001b[0m \u001b[0mfull_boot\u001b[0m \u001b[0;34m=\u001b[0m \u001b[0mpd\u001b[0m\u001b[0;34m.\u001b[0m\u001b[0mSeries\u001b[0m\u001b[0;34m(\u001b[0m\u001b[0mresults\u001b[0m\u001b[0;34m,\u001b[0m \u001b[0mindex\u001b[0m\u001b[0;34m=\u001b[0m\u001b[0mnoises\u001b[0m\u001b[0;34m,\u001b[0m \u001b[0mname\u001b[0m\u001b[0;34m=\u001b[0m\u001b[0;34m'full'\u001b[0m\u001b[0;34m)\u001b[0m\u001b[0;34m\u001b[0m\u001b[0;34m\u001b[0m\u001b[0m\n\u001b[1;32m      9\u001b[0m \u001b[0mfull_time\u001b[0m \u001b[0;34m=\u001b[0m \u001b[0mtime\u001b[0m\u001b[0;34m(\u001b[0m\u001b[0;34m)\u001b[0m\u001b[0;34m-\u001b[0m\u001b[0mstart\u001b[0m\u001b[0;34m\u001b[0m\u001b[0;34m\u001b[0m\u001b[0m\n",
      "\u001b[0;32m<ipython-input-7-0d47fc75d393>\u001b[0m in \u001b[0;36mevaluate\u001b[0;34m(pred1, true1, pred2, true2, n, sample_size)\u001b[0m\n\u001b[1;32m      2\u001b[0m     \u001b[0msamples1\u001b[0m \u001b[0;34m=\u001b[0m \u001b[0mbootstrap_samples\u001b[0m\u001b[0;34m(\u001b[0m\u001b[0mpred1\u001b[0m\u001b[0;34m,\u001b[0m \u001b[0mtrue1\u001b[0m\u001b[0;34m,\u001b[0m \u001b[0;36m1000\u001b[0m\u001b[0;34m,\u001b[0m \u001b[0msample_size\u001b[0m\u001b[0;34m=\u001b[0m\u001b[0msample_size\u001b[0m\u001b[0;34m)\u001b[0m\u001b[0;34m\u001b[0m\u001b[0;34m\u001b[0m\u001b[0m\n\u001b[1;32m      3\u001b[0m     \u001b[0msamples2\u001b[0m \u001b[0;34m=\u001b[0m \u001b[0mbootstrap_samples\u001b[0m\u001b[0;34m(\u001b[0m\u001b[0mpred2\u001b[0m\u001b[0;34m,\u001b[0m \u001b[0mtrue2\u001b[0m\u001b[0;34m,\u001b[0m \u001b[0;36m1000\u001b[0m\u001b[0;34m,\u001b[0m \u001b[0msample_size\u001b[0m\u001b[0;34m=\u001b[0m\u001b[0msample_size\u001b[0m\u001b[0;34m)\u001b[0m\u001b[0;34m\u001b[0m\u001b[0;34m\u001b[0m\u001b[0m\n\u001b[0;32m----> 4\u001b[0;31m     \u001b[0meffect_size\u001b[0m \u001b[0;34m=\u001b[0m \u001b[0mcompare\u001b[0m\u001b[0;34m(\u001b[0m\u001b[0msamples1\u001b[0m\u001b[0;34m,\u001b[0m \u001b[0msamples2\u001b[0m\u001b[0;34m,\u001b[0m \u001b[0mr2_score\u001b[0m\u001b[0;34m,\u001b[0m \u001b[0mverbose\u001b[0m\u001b[0;34m=\u001b[0m\u001b[0;32mFalse\u001b[0m\u001b[0;34m)\u001b[0m\u001b[0;34m\u001b[0m\u001b[0;34m\u001b[0m\u001b[0m\n\u001b[0m\u001b[1;32m      5\u001b[0m     \u001b[0;32mreturn\u001b[0m \u001b[0meffect_size\u001b[0m\u001b[0;34m\u001b[0m\u001b[0;34m\u001b[0m\u001b[0m\n",
      "\u001b[0;32m<ipython-input-3-af3264654e48>\u001b[0m in \u001b[0;36mcompare\u001b[0;34m(samples1, samples2, fun, requires_y_true, verbose)\u001b[0m\n\u001b[1;32m     22\u001b[0m     \u001b[0;32mif\u001b[0m \u001b[0mrequires_y_true\u001b[0m \u001b[0;32mis\u001b[0m \u001b[0;32mNone\u001b[0m\u001b[0;34m:\u001b[0m\u001b[0;34m\u001b[0m\u001b[0;34m\u001b[0m\u001b[0m\n\u001b[1;32m     23\u001b[0m         \u001b[0mrequires_y_true\u001b[0m \u001b[0;34m=\u001b[0m \u001b[0;32mFalse\u001b[0m\u001b[0;34m\u001b[0m\u001b[0;34m\u001b[0m\u001b[0m\n\u001b[0;32m---> 24\u001b[0;31m         \u001b[0;32mif\u001b[0m \u001b[0;34m'y_true_bootstrap'\u001b[0m \u001b[0;32min\u001b[0m \u001b[0msamples\u001b[0m\u001b[0;34m:\u001b[0m\u001b[0;34m\u001b[0m\u001b[0;34m\u001b[0m\u001b[0m\n\u001b[0m\u001b[1;32m     25\u001b[0m             \u001b[0mrequires_y_true\u001b[0m \u001b[0;34m=\u001b[0m \u001b[0;32mTrue\u001b[0m\u001b[0;34m\u001b[0m\u001b[0;34m\u001b[0m\u001b[0m\n\u001b[1;32m     26\u001b[0m     \u001b[0mout1\u001b[0m \u001b[0;34m=\u001b[0m \u001b[0mapply_fun\u001b[0m\u001b[0;34m(\u001b[0m\u001b[0msamples1\u001b[0m\u001b[0;34m,\u001b[0m \u001b[0mfun\u001b[0m\u001b[0;34m,\u001b[0m \u001b[0mrequires_y_true\u001b[0m\u001b[0;34m)\u001b[0m\u001b[0;34m\u001b[0m\u001b[0;34m\u001b[0m\u001b[0m\n",
      "\u001b[0;31mNameError\u001b[0m: name 'samples' is not defined"
     ]
    }
   ],
   "source": [
    "# full sample\n",
    "start = time()\n",
    "results = []\n",
    "for comparison_noise in noises:\n",
    "    pred1 = true1 + np.random.normal(size=n1)*.4\n",
    "    pred2 = true2 + np.random.normal(size=n2)*comparison_noise\n",
    "    results.append(evaluate(pred1, true1, pred2, true2))\n",
    "full_boot = pd.Series(results, index=noises, name='full')\n",
    "full_time = time()-start"
   ]
  },
  {
   "cell_type": "code",
   "execution_count": null,
   "id": "9d6cee3b",
   "metadata": {},
   "outputs": [],
   "source": [
    "series = []\n",
    "times = []\n",
    "sample_sizes = np.arange(100,5000, 500)\n",
    "for sample_size in sample_sizes:\n",
    "    results = []\n",
    "    start = time()\n",
    "    for comparison_noise in noises:\n",
    "        pred1 = true1 + np.random.normal(size=n1)*.4\n",
    "        pred2 = true2 + np.random.normal(size=n2)*comparison_noise\n",
    "        results.append(evaluate(pred1, true1, pred2, true2, sample_size=sample_size))\n",
    "    series.append(pd.Series(results, index=noises, name=sample_size))\n",
    "    times.append(time()-start)"
   ]
  },
  {
   "cell_type": "code",
   "execution_count": null,
   "id": "fbde3385",
   "metadata": {},
   "outputs": [],
   "source": [
    "df = pd.concat(series + [full_boot], axis=1)"
   ]
  },
  {
   "cell_type": "code",
   "execution_count": null,
   "id": "066ee299",
   "metadata": {},
   "outputs": [],
   "source": [
    "df.plot()"
   ]
  },
  {
   "cell_type": "code",
   "execution_count": null,
   "id": "999c2c9c",
   "metadata": {},
   "outputs": [],
   "source": [
    "# time taken\n",
    "pd.Series([full_time] + times, index= ['full'] + list(sample_sizes))"
   ]
  }
 ],
 "metadata": {
  "kernelspec": {
   "display_name": "Python 3",
   "language": "python",
   "name": "python3"
  },
  "language_info": {
   "codemirror_mode": {
    "name": "ipython",
    "version": 3
   },
   "file_extension": ".py",
   "mimetype": "text/x-python",
   "name": "python",
   "nbconvert_exporter": "python",
   "pygments_lexer": "ipython3",
   "version": "3.9.7"
  }
 },
 "nbformat": 4,
 "nbformat_minor": 5
}
