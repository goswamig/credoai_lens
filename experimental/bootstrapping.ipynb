{
 "cells": [
  {
   "cell_type": "markdown",
   "id": "c6415197",
   "metadata": {},
   "source": [
    "## Effect Size Simulations"
   ]
  },
  {
   "cell_type": "code",
   "execution_count": 1,
   "id": "7fa46cb3",
   "metadata": {},
   "outputs": [],
   "source": [
    "import matplotlib.pyplot as plt\n",
    "import numpy as np\n",
    "import pandas as pd\n",
    "from sklearn.metrics import *\n",
    "from time import time"
   ]
  },
  {
   "cell_type": "code",
   "execution_count": 2,
   "id": "e577eddf",
   "metadata": {},
   "outputs": [],
   "source": [
    "def pooled_sd(arr1, arr2):\n",
    "    n1 = len(arr1)\n",
    "    n2 = len(arr2)\n",
    "    sd1 = np.std(arr1)\n",
    "    sd2 = np.std(arr2)\n",
    "    return (((n1 - 1)*sd1**2 + (n2-1)*sd2**2) / (n1 + n2-2))**0.5"
   ]
  },
  {
   "cell_type": "code",
   "execution_count": 3,
   "id": "33799588",
   "metadata": {},
   "outputs": [],
   "source": [
    "def get_bootstrap_indices(arr, n=1000, sample_size=None):\n",
    "    if sample_size is None:\n",
    "        sample_size = len(arr)\n",
    "    return np.random.choice(np.arange(len(arr)), size=[sample_size,n], replace=True)\n",
    "\n",
    "def bootstrap_samples(y_pred, y_true=None, n=1000, sample_size=None):\n",
    "    indices = get_bootstrap_indices(y_pred, n=n, sample_size=sample_size)\n",
    "    out = {'y_pred_bootstrap': y_pred[indices]}\n",
    "    if y_true is not None:\n",
    "        out['y_true_bootstrap'] = y_true[indices]\n",
    "    return out\n",
    "\n",
    "def apply_fun(bootstrap_samples, fun, requires_y_true=True):\n",
    "    if requires_y_true:\n",
    "        zipped = zip(bootstrap_samples['y_true_bootstrap'].T, \n",
    "                     bootstrap_samples['y_pred_bootstrap'].T)\n",
    "        return np.array([fun(true, pred) for true, pred in zipped])\n",
    "    else:\n",
    "        return np.array([fun(s) for s in bootstrap_samples['y_pred_bootstrap'].T])\n",
    "\n",
    "def cohens_d(arr1, arr2, verbose=False):\n",
    "    if verbose:\n",
    "        print(f'Mean Statistic 1: {np.mean(arr1)}', \n",
    "              f'Mean Statistic 2: {np.mean(arr2)}')\n",
    "    return (np.mean(arr1)-np.mean(arr2)) / pooled_sd(arr1, arr2)\n",
    "\n",
    "def compare(samples1, samples2, fun, requires_y_true=None, verbose=True):\n",
    "    if requires_y_true is None:\n",
    "        requires_y_true = False\n",
    "        if 'y_true_bootstrap' in samples1:\n",
    "            requires_y_true = True\n",
    "    out1 = apply_fun(samples1, fun, requires_y_true)\n",
    "    out2 = apply_fun(samples2, fun, requires_y_true)\n",
    "    out = cohens_d(out1, out2, verbose=verbose)\n",
    "    return out"
   ]
  },
  {
   "cell_type": "markdown",
   "id": "9d5c9e35",
   "metadata": {},
   "source": [
    "## Simulation 1"
   ]
  },
  {
   "cell_type": "code",
   "execution_count": 36,
   "id": "253b1817",
   "metadata": {},
   "outputs": [],
   "source": [
    "dist1 = lambda size: np.random.normal(loc=2, \n",
    "                                      scale=1, \n",
    "                                      size=size)\n",
    "dist2 = lambda size: np.random.normal(loc=0, \n",
    "                                      scale=1, \n",
    "                                      size=size)\n",
    "val1 = dist1(10000)\n",
    "val2 = dist2(10000)"
   ]
  },
  {
   "cell_type": "markdown",
   "id": "3a1c5978",
   "metadata": {},
   "source": [
    "### simple case - calculate whether distributions are different\n",
    "\n",
    "* Sample each distribution N times\n",
    "* calculate the effect size between the two distributions\n",
    "* this gives you CI around the effect size"
   ]
  },
  {
   "cell_type": "code",
   "execution_count": 37,
   "id": "1caf7f0c",
   "metadata": {},
   "outputs": [
    {
     "data": {
      "text/plain": [
       "Text(0.5, 1.0, '1.9913268785654676')"
      ]
     },
     "execution_count": 37,
     "metadata": {},
     "output_type": "execute_result"
    },
    {
     "data": {
      "image/png": "[encoded data removed]",
      "text/plain": [
       "<Figure size 432x288 with 1 Axes>"
      ]
     },
     "metadata": {
      "needs_background": "light"
     },
     "output_type": "display_data"
    }
   ],
   "source": [
    "samples1 = bootstrap_samples(val1, sample_size=None)\n",
    "samples2 = bootstrap_samples(val2, sample_size=None)\n",
    "\n",
    "tmp1 = samples1['y_pred_bootstrap']\n",
    "tmp2 = samples2['y_pred_bootstrap']\n",
    "\n",
    "effect_sizes = [cohens_d(tmp1[:,i], tmp2[:, i]) for i in range(tmp1.shape[1])]\n",
    "h=plt.hist(effect_sizes, bins=100)\n",
    "plt.title(np.mean(effect_sizes))"
   ]
  },
  {
   "cell_type": "markdown",
   "id": "b1bcfa98",
   "metadata": {},
   "source": [
    "### What if each sample just gave one number? Like the accuracy\n",
    "\n",
    "In this case, you calculate the statistic for each sample. For instance, let's say we get correct or incorrect values for each person and want to see if the overall accuracy differs between groups. We can use the bootstrap to get a distribution of accuracies for each sample. We can compare the two distributions of accuracy, but the distributions move towards a point estimate as the sample size goes up! If we use the original sample sizes we will always get a humongous effect size! This is kind of how it should be however, because ...stats.\n",
    "\n",
    "A proper bootstrap will use the same N as the original example. Otherwise you will underestimate the effect size. But maybe we can use that to our advantage...\n",
    "\n",
    "First, let's go through the normal stuff."
   ]
  },
  {
   "cell_type": "code",
   "execution_count": 144,
   "id": "9e7cc63b-69ce-45dc-a6a3-52a0aa073c27",
   "metadata": {},
   "outputs": [],
   "source": [
    "# parameteric, classic stats with a sample of 100\n",
    "def to_observations(binomial_results):\n",
    "    N = sum(binomial_results)\n",
    "    return [N, len(binomial_results)-N]\n",
    "\n",
    "def calc_statistic(p1, p2, n1, n2):\n",
    "    p_combined = (p1*n1+p2*n2)/(n1+n2)\n",
    "    z = (p1-p2)/(p_combined*(1-p_combined)*(1/n1+1/n2))**.5\n",
    "    p_val = stats.norm.sf(abs(z))*2\n",
    "    return z, p_val\n",
    "\n",
    "repeats = []\n",
    "for _ in range(100):\n",
    "    val1 = dist1(100)\n",
    "    val2 = dist2(100)\n",
    "    # chisquared test\n",
    "    results = {}\n",
    "    out = stats.chi2_contingency([to_observations(val1), to_observations(val2)])\n",
    "    results['chi_sq'] = out[1]\n",
    "\n",
    "    # another test\n",
    "    # see here https://stats.stackexchange.com/questions/113602/test-if-two-binomial-distributions-are-statistically-different-from-each-other\n",
    "    p1 = np.mean(val1)\n",
    "    p2 = np.mean(val2)\n",
    "    n1 = len(val1)\n",
    "    n2 = len(val2)\n",
    "    z, p_val = calc_statistic(p1, p2, n1, n2)\n",
    "    results['z_test'] = p_val\n",
    "    repeats.append(results)"
   ]
  },
  {
   "cell_type": "code",
   "execution_count": 145,
   "id": "7fe53d77-e5af-4b87-b710-686d845954ad",
   "metadata": {},
   "outputs": [
    {
     "data": {
      "text/plain": [
       "Text(0.5, 1.0, '0.21329845762009186')"
      ]
     },
     "execution_count": 145,
     "metadata": {},
     "output_type": "execute_result"
    },
    {
     "data": {
      "image/png": "[encoded data removed]",
      "text/plain": [
       "<Figure size 432x288 with 1 Axes>"
      ]
     },
     "metadata": {
      "needs_background": "light"
     },
     "output_type": "display_data"
    }
   ],
   "source": [
    "# we get a range of p vals for each sample\n",
    "statistics = [r['z_test'] for r in repeats]\n",
    "_=plt.hist(statistics, bins=100)\n",
    "plt.title(np.mean(statistics))"
   ]
  },
  {
   "cell_type": "code",
   "execution_count": 164,
   "id": "a0a4aa2e",
   "metadata": {},
   "outputs": [
    {
     "data": {
      "image/png": "[encoded data removed]",
      "text/plain": [
       "<Figure size 1440x288 with 5 Axes>"
      ]
     },
     "metadata": {
      "needs_background": "light"
     },
     "output_type": "display_data"
    }
   ],
   "source": [
    "# we can also estimate these p values using the bootstrap. Or just the effect size. Who needs p-vals anyway?\n",
    "val1 = dist1(10000)\n",
    "val2 = dist2(10000)\n",
    "n=5000\n",
    "sample_sizes = [10, 100, 200, 1000, None]\n",
    "h= f, axes = plt.subplots(1,len(sample_sizes), figsize=(len(sample_sizes)*4,4))\n",
    "\n",
    "for ax, sample_size in zip(axes, sample_sizes):\n",
    "    sample1 = bootstrap_samples(val1, n=n, sample_size=sample_size)\n",
    "    sample2 = bootstrap_samples(val2, n=n, sample_size=sample_size)\n",
    "    N = len(sample1['y_pred_bootstrap']) # sample size\n",
    "    statistic1 = np.mean(sample1['y_pred_bootstrap'], axis=0)\n",
    "    statistic2 = np.mean(sample2['y_pred_bootstrap'], axis=0)\n",
    "\n",
    "    effect_size = cohens_d(statistic1, statistic2)\n",
    "    p_val = stats.norm.sf(abs(effect_size))*2\n",
    "    ax.hist(statistic1)\n",
    "    ax.hist(statistic2)\n",
    "    ax.set_title(f'Sample Size: {N}\\nEffect Size: {effect_size:.2f}\\np-val: {p_val:f}')\n"
   ]
  },
  {
   "cell_type": "code",
   "execution_count": 140,
   "id": "f8010c3d-eb78-4561-aaec-de9438409dfd",
   "metadata": {},
   "outputs": [
    {
     "data": {
      "text/plain": [
       "-1.6329931618554518"
      ]
     },
     "execution_count": 140,
     "metadata": {},
     "output_type": "execute_result"
    }
   ],
   "source": [
    "calc_statistic(.2, .3, 100, 100)"
   ]
  },
  {
   "cell_type": "markdown",
   "id": "2d1d2d9d-c6f8-451b-9857-a06e54f29c77",
   "metadata": {},
   "source": [
    "So what does this mean? Well let's say you want think an \"accuracy difference of 10% is a big deal\"... Well, actually that's not gonna be good enough as a difference in accuracy between 40% and 50% is less impressive than 85% and 95%. So let's be more precise with our example. You think: \"if one group has an accuracy of 80%, the other group haven't more than 10% difference is a big deal\". Let's turn that into code.\n",
    "\n",
    "Let's assume both have the same sample size for the purpose of this translation. That means we can combine n1 and n2"
   ]
  },
  {
   "cell_type": "code",
   "execution_count": 174,
   "id": "b883aee9-b474-4d5d-8067-d4ab18fe9fb6",
   "metadata": {},
   "outputs": [],
   "source": [
    "def calc_statistic(p1, p2, n1, n2):\n",
    "    p_combined = (p1*n1+p2*n2)/(n1+n2)\n",
    "    z = (p1-p2)/(p_combined*(1-p_combined)*(1/n1+1/n2))**.5\n",
    "    p_val = stats.norm.sf(abs(z))*2\n",
    "    return z, p_val\n",
    "\n",
    "def calc_statistic(p1, p2, n):\n",
    "    p_combined = (p1+p2)/2\n",
    "    z = (p1-p2)/(p_combined*(1-p_combined)*(2/n))**.5\n",
    "    p_val = stats.norm.sf(abs(z))*2\n",
    "    return z, p_val"
   ]
  },
  {
   "cell_type": "markdown",
   "id": "73f39bcd-1391-43ae-baea-e3255798b666",
   "metadata": {},
   "source": [
    "we can solve for z..."
   ]
  },
  {
   "cell_type": "code",
   "execution_count": 181,
   "id": "1a6a1f8a-a57d-4c12-a661-3045ab36bc35",
   "metadata": {},
   "outputs": [],
   "source": [
    "def find_n(p1, p2, test_statistic):\n",
    "    p_combined = (p1+p2)/2\n",
    "    num = p_combined*(1-p_combined)*2\n",
    "    denom = ((p1-p2)/test_statistic)**2\n",
    "    return num/denom\n"
   ]
  },
  {
   "cell_type": "code",
   "execution_count": 202,
   "id": "77cac287-7656-44e2-9fab-92000e8cb8a6",
   "metadata": {},
   "outputs": [
    {
     "name": "stdout",
     "output_type": "stream",
     "text": [
      "Number of people to use for this test: 169.18986332604092\n"
     ]
    }
   ],
   "source": [
    "# set up the analogy\n",
    "base=.8\n",
    "significant_accuracy_diff = .1\n",
    "p1 = significant_accuracy_diff+base\n",
    "p2 = base\n",
    "\n",
    "# define what \"very important\". Let's say \"very important\" means a p-val of .01\n",
    "important_p_val = .01\n",
    "sig_val = stats.norm.ppf(1-important_p_val/2) # zval equal to pval of .05\n",
    "n = find_n(p1, p2, sig_val)\n",
    "print(f'Number of people to use for this test: {n}')"
   ]
  },
  {
   "cell_type": "markdown",
   "id": "ef07a95c-a9cc-4927-8037-23ca6bfb82d2",
   "metadata": {},
   "source": [
    "Now we have an N. We can use this in the bootstrap for random other metrics and give \"practically significant\" results. \"Practical significance\" is defined as \"statistical significance\" with the number of people we found above.\n",
    "\n",
    "We can imagine giving a short questionnaire (like a investment company does - see vanguard). The questionnaire would give a few examples like above and we would get samples of their \"risk tolerance\". We then apply that to any metric."
   ]
  },
  {
   "cell_type": "markdown",
   "id": "d1d47f24",
   "metadata": {},
   "source": [
    "## Simulation - Regression\n",
    "\n",
    "So now let's say we have a real use case. We have two distributions and our \"predictive model\" is worse on one than another. The way it's worse is its predictions are \"noisier\" (we've added a certain amount of gaussian noise). Is the difference between the two models \"bad\"?"
   ]
  },
  {
   "cell_type": "code",
   "execution_count": 240,
   "id": "1f0ddeb1",
   "metadata": {},
   "outputs": [],
   "source": [
    "#config\n",
    "dist1 = lambda size: np.random.exponential(size=size)\n",
    "n1 = 10000\n",
    "n2 = 10000\n",
    "true1, true2 = dist1(n1), dist1(n2)\n",
    "noise1 = .4\n",
    "noise2 = .6\n",
    "\n",
    "pred1 = true1 + np.random.normal(size=n1)*noise1\n",
    "pred2 = true2 + np.random.normal(size=n2)*noise2\n"
   ]
  },
  {
   "cell_type": "code",
   "execution_count": 241,
   "id": "d622b279",
   "metadata": {},
   "outputs": [
    {
     "data": {
      "text/plain": [
       "<matplotlib.collections.PathCollection at 0x29db7e3d0>"
      ]
     },
     "execution_count": 252,
     "metadata": {},
     "output_type": "execute_result"
    },
    {
     "data": {
      "image/png": "[encoded data removed]",
      "text/plain": [
       "<Figure size 576x288 with 2 Axes>"
      ]
     },
     "metadata": {
      "needs_background": "light"
     },
     "output_type": "display_data"
    }
   ],
   "source": [
    "f, axes = plt.subplots(1,2, figsize=(8,4))\n",
    "axes[0].scatter(true1, pred1, alpha=.05)\n",
    "axes[1].scatter(true2, pred2, alpha=.05)"
   ]
  },
  {
   "cell_type": "markdown",
   "id": "0768eeff-dc6e-46cf-a275-14114292848b",
   "metadata": {
    "tags": []
   },
   "source": [
    "### First Sim"
   ]
  },
  {
   "cell_type": "code",
   "execution_count": 243,
   "id": "e81b959e-e836-4aa9-9283-041339dfee0e",
   "metadata": {},
   "outputs": [
    {
     "data": {
      "text/plain": [
       "Text(0.5, 1.0, 'Good?: NO\\nSample Size: 169\\nEffect Size: 3.15\\np-val: 0.001620')"
      ]
     },
     "execution_count": 253,
     "metadata": {},
     "output_type": "execute_result"
    },
    {
     "data": {
      "image/png": "[encoded data removed]",
      "text/plain": [
       "<Figure size 432x288 with 1 Axes>"
      ]
     },
     "metadata": {
      "needs_background": "light"
     },
     "output_type": "display_data"
    }
   ],
   "source": [
    "# do the bootstrap\n",
    "n_boot = 2000\n",
    "sample_size=int(n)\n",
    "samples1 = bootstrap_samples(pred1, true1, \n",
    "                             n_boot, sample_size=sample_size)\n",
    "samples2 = bootstrap_samples(pred2, true2, \n",
    "                             n_boot, sample_size=sample_size)\n",
    "# on each sample compute r2_score\n",
    "fun = r2_score\n",
    "requires_y_true = True\n",
    "statistic1 = apply_fun(samples1, fun, requires_y_true)\n",
    "statistic2 = apply_fun(samples2, fun, requires_y_true)\n",
    "\n",
    "# compare distributions of r2 scores\n",
    "effect_size = cohens_d(statistic1, statistic2)\n",
    "p_val = stats.norm.sf(abs(effect_size))*2\n",
    "answer = 'YES' if p_val > .01 else 'NO'\n",
    "plt.hist(statistic1)\n",
    "plt.hist(statistic2)\n",
    "plt.title(f'Good?: {answer}/nSample Size: {sample_size}\\nEffect Size: {effect_size:.2f}\\np-val: {p_val:f}')"
   ]
  },
  {
   "cell_type": "markdown",
   "id": "788d126b-3f72-4907-baf2-5dcab47d40f6",
   "metadata": {},
   "source": [
    "# Scrap"
   ]
  },
  {
   "cell_type": "markdown",
   "id": "8ffb4689",
   "metadata": {
    "tags": []
   },
   "source": [
    "### First Sim"
   ]
  },
  {
   "cell_type": "code",
   "execution_count": 297,
   "id": "4da2d295",
   "metadata": {},
   "outputs": [],
   "source": [
    "pred1 = true1 + np.random.normal(size=n1)*.4\n",
    "pred2 = true2 + np.random.normal(size=n2)*.5\n",
    "\n",
    "n_boot = 2000\n",
    "sample_size=1000\n",
    "samples1 = bootstrap_samples(pred1, true1, \n",
    "                             n_boot, sample_size=sample_size)\n",
    "samples2 = bootstrap_samples(pred2, true2, \n",
    "                             n_boot, sample_size=sample_size)\n",
    "\n",
    "fun = r2_score\n",
    "requires_y_true = True\n",
    "out1 = apply_fun(samples1, fun, requires_y_true)\n",
    "out2 = apply_fun(samples2, fun, requires_y_true)"
   ]
  },
  {
   "cell_type": "code",
   "execution_count": 298,
   "id": "003a39cd",
   "metadata": {},
   "outputs": [
    {
     "data": {
      "text/plain": [
       "Text(0.5, 1.0, '3.766937991050949, 0.029009527929095235')"
      ]
     },
     "execution_count": 298,
     "metadata": {},
     "output_type": "execute_result"
    },
    {
     "data": {
      "image/png": "[encoded data removed]",
      "text/plain": [
       "<Figure size 432x288 with 1 Axes>"
      ]
     },
     "metadata": {
      "needs_background": "light"
     },
     "output_type": "display_data"
    }
   ],
   "source": [
    "dist = out1-out2\n",
    "_ = plt.hist(dist, bins=100)\n",
    "plt.title(f'{cohens_d(out1, out2)}, {np.std(dist)}')"
   ]
  },
  {
   "cell_type": "code",
   "execution_count": 308,
   "id": "eefc6429",
   "metadata": {},
   "outputs": [
    {
     "data": {
      "text/plain": [
       "0.03090232306167813"
      ]
     },
     "execution_count": 308,
     "metadata": {},
     "output_type": "execute_result"
    }
   ],
   "source": [
    "from scipy.stats import norm\n",
    "abs(norm.ppf(.001))/10000**.5"
   ]
  },
  {
   "cell_type": "code",
   "execution_count": 314,
   "id": "74dad284",
   "metadata": {},
   "outputs": [
    {
     "data": {
      "text/plain": [
       "[27055.434540954146, 1082.2173816381658, 270.55434540954144]"
      ]
     },
     "execution_count": 314,
     "metadata": {},
     "output_type": "execute_result"
    }
   ],
   "source": [
    "# convert effect sizes into needed sample size to discover at .05\n",
    "effects = [0.01, .05, .1] # small, medium, large\n",
    "p_val = .05\n",
    "sample_sizes = [(abs(norm.ppf(p_val))/e)**2 for e in effects]\n",
    "sample_sizes"
   ]
  },
  {
   "cell_type": "markdown",
   "id": "2b2f939f-9ee2-4476-9968-e61a73eabca5",
   "metadata": {
    "tags": []
   },
   "source": [
    "### First Sim"
   ]
  },
  {
   "cell_type": "code",
   "execution_count": 297,
   "id": "c0bf8c17-7082-46c1-87ba-a2d41414cd2d",
   "metadata": {},
   "outputs": [],
   "source": [
    "pred1 = true1 + np.random.normal(size=n1)*.4\n",
    "pred2 = true2 + np.random.normal(size=n2)*.5\n",
    "\n",
    "n_boot = 2000\n",
    "sample_size=1000\n",
    "samples1 = bootstrap_samples(pred1, true1, \n",
    "                             n_boot, sample_size=sample_size)\n",
    "samples2 = bootstrap_samples(pred2, true2, \n",
    "                             n_boot, sample_size=sample_size)\n",
    "\n",
    "fun = r2_score\n",
    "requires_y_true = True\n",
    "out1 = apply_fun(samples1, fun, requires_y_true)\n",
    "out2 = apply_fun(samples2, fun, requires_y_true)"
   ]
  },
  {
   "cell_type": "code",
   "execution_count": 298,
   "id": "aa735919-9b35-4ab2-b510-496da24c5210",
   "metadata": {},
   "outputs": [
    {
     "data": {
      "text/plain": [
       "Text(0.5, 1.0, '3.766937991050949, 0.029009527929095235')"
      ]
     },
     "execution_count": 298,
     "metadata": {},
     "output_type": "execute_result"
    },
    {
     "data": {
      "image/png": "[encoded data removed]",
      "text/plain": [
       "<Figure size 432x288 with 1 Axes>"
      ]
     },
     "metadata": {
      "needs_background": "light"
     },
     "output_type": "display_data"
    }
   ],
   "source": [
    "dist = out1-out2\n",
    "_ = plt.hist(dist, bins=100)\n",
    "plt.title(f'{cohens_d(out1, out2)}, {np.std(dist)}')"
   ]
  },
  {
   "cell_type": "code",
   "execution_count": 308,
   "id": "59742ae5-30a8-44b1-b88b-4511ff117009",
   "metadata": {},
   "outputs": [
    {
     "data": {
      "text/plain": [
       "0.03090232306167813"
      ]
     },
     "execution_count": 308,
     "metadata": {},
     "output_type": "execute_result"
    }
   ],
   "source": [
    "from scipy.stats import norm\n",
    "abs(norm.ppf(.001))/10000**.5"
   ]
  },
  {
   "cell_type": "code",
   "execution_count": 314,
   "id": "dcdee268-9a4e-481d-abc1-693a53db811f",
   "metadata": {},
   "outputs": [
    {
     "data": {
      "text/plain": [
       "[27055.434540954146, 1082.2173816381658, 270.55434540954144]"
      ]
     },
     "execution_count": 314,
     "metadata": {},
     "output_type": "execute_result"
    }
   ],
   "source": [
    "# convert effect sizes into needed sample size to discover at .05\n",
    "effects = [0.01, .05, .1] # small, medium, large\n",
    "p_val = .05\n",
    "sample_sizes = [(abs(norm.ppf(p_val))/e)**2 for e in effects]\n",
    "sample_sizes"
   ]
  },
  {
   "cell_type": "markdown",
   "id": "abe4644c",
   "metadata": {},
   "source": [
    "### More parameters"
   ]
  },
  {
   "cell_type": "code",
   "execution_count": 236,
   "id": "5618d954",
   "metadata": {},
   "outputs": [],
   "source": [
    "def evaluate(pred1, true1, pred2, true2, n=1000, sample_size=None):\n",
    "    samples1 = bootstrap_samples(pred1, true1, 1000, sample_size=sample_size)\n",
    "    samples2 = bootstrap_samples(pred2, true2, 1000, sample_size=sample_size)\n",
    "    effect_size = compare(samples1, samples2, r2_score, verbose=False)\n",
    "    return effect_size"
   ]
  },
  {
   "cell_type": "code",
   "execution_count": 235,
   "id": "efb3ad04",
   "metadata": {},
   "outputs": [],
   "source": [
    "noises = np.arange(0,1, .05)"
   ]
  },
  {
   "cell_type": "code",
   "execution_count": 9,
   "id": "479fb6d0",
   "metadata": {},
   "outputs": [
    {
     "ename": "NameError",
     "evalue": "name 'samples' is not defined",
     "output_type": "error",
     "traceback": [
      "\u001b[0;31m---------------------------------------------------------------------------\u001b[0m",
      "\u001b[0;31mNameError\u001b[0m                                 Traceback (most recent call last)",
      "\u001b[0;32m<ipython-input-9-3c3522853e6c>\u001b[0m in \u001b[0;36m<module>\u001b[0;34m\u001b[0m\n\u001b[1;32m      5\u001b[0m     \u001b[0mpred1\u001b[0m \u001b[0;34m=\u001b[0m \u001b[0mtrue1\u001b[0m \u001b[0;34m+\u001b[0m \u001b[0mnp\u001b[0m\u001b[0;34m.\u001b[0m\u001b[0mrandom\u001b[0m\u001b[0;34m.\u001b[0m\u001b[0mnormal\u001b[0m\u001b[0;34m(\u001b[0m\u001b[0msize\u001b[0m\u001b[0;34m=\u001b[0m\u001b[0mn1\u001b[0m\u001b[0;34m)\u001b[0m\u001b[0;34m*\u001b[0m\u001b[0;36m.4\u001b[0m\u001b[0;34m\u001b[0m\u001b[0;34m\u001b[0m\u001b[0m\n\u001b[1;32m      6\u001b[0m     \u001b[0mpred2\u001b[0m \u001b[0;34m=\u001b[0m \u001b[0mtrue2\u001b[0m \u001b[0;34m+\u001b[0m \u001b[0mnp\u001b[0m\u001b[0;34m.\u001b[0m\u001b[0mrandom\u001b[0m\u001b[0;34m.\u001b[0m\u001b[0mnormal\u001b[0m\u001b[0;34m(\u001b[0m\u001b[0msize\u001b[0m\u001b[0;34m=\u001b[0m\u001b[0mn2\u001b[0m\u001b[0;34m)\u001b[0m\u001b[0;34m*\u001b[0m\u001b[0mcomparison_noise\u001b[0m\u001b[0;34m\u001b[0m\u001b[0;34m\u001b[0m\u001b[0m\n\u001b[0;32m----> 7\u001b[0;31m     \u001b[0mresults\u001b[0m\u001b[0;34m.\u001b[0m\u001b[0mappend\u001b[0m\u001b[0;34m(\u001b[0m\u001b[0mevaluate\u001b[0m\u001b[0;34m(\u001b[0m\u001b[0mpred1\u001b[0m\u001b[0;34m,\u001b[0m \u001b[0mtrue1\u001b[0m\u001b[0;34m,\u001b[0m \u001b[0mpred2\u001b[0m\u001b[0;34m,\u001b[0m \u001b[0mtrue2\u001b[0m\u001b[0;34m)\u001b[0m\u001b[0;34m)\u001b[0m\u001b[0;34m\u001b[0m\u001b[0;34m\u001b[0m\u001b[0m\n\u001b[0m\u001b[1;32m      8\u001b[0m \u001b[0mfull_boot\u001b[0m \u001b[0;34m=\u001b[0m \u001b[0mpd\u001b[0m\u001b[0;34m.\u001b[0m\u001b[0mSeries\u001b[0m\u001b[0;34m(\u001b[0m\u001b[0mresults\u001b[0m\u001b[0;34m,\u001b[0m \u001b[0mindex\u001b[0m\u001b[0;34m=\u001b[0m\u001b[0mnoises\u001b[0m\u001b[0;34m,\u001b[0m \u001b[0mname\u001b[0m\u001b[0;34m=\u001b[0m\u001b[0;34m'full'\u001b[0m\u001b[0;34m)\u001b[0m\u001b[0;34m\u001b[0m\u001b[0;34m\u001b[0m\u001b[0m\n\u001b[1;32m      9\u001b[0m \u001b[0mfull_time\u001b[0m \u001b[0;34m=\u001b[0m \u001b[0mtime\u001b[0m\u001b[0;34m(\u001b[0m\u001b[0;34m)\u001b[0m\u001b[0;34m-\u001b[0m\u001b[0mstart\u001b[0m\u001b[0;34m\u001b[0m\u001b[0;34m\u001b[0m\u001b[0m\n",
      "\u001b[0;32m<ipython-input-7-0d47fc75d393>\u001b[0m in \u001b[0;36mevaluate\u001b[0;34m(pred1, true1, pred2, true2, n, sample_size)\u001b[0m\n\u001b[1;32m      2\u001b[0m     \u001b[0msamples1\u001b[0m \u001b[0;34m=\u001b[0m \u001b[0mbootstrap_samples\u001b[0m\u001b[0;34m(\u001b[0m\u001b[0mpred1\u001b[0m\u001b[0;34m,\u001b[0m \u001b[0mtrue1\u001b[0m\u001b[0;34m,\u001b[0m \u001b[0;36m1000\u001b[0m\u001b[0;34m,\u001b[0m \u001b[0msample_size\u001b[0m\u001b[0;34m=\u001b[0m\u001b[0msample_size\u001b[0m\u001b[0;34m)\u001b[0m\u001b[0;34m\u001b[0m\u001b[0;34m\u001b[0m\u001b[0m\n\u001b[1;32m      3\u001b[0m     \u001b[0msamples2\u001b[0m \u001b[0;34m=\u001b[0m \u001b[0mbootstrap_samples\u001b[0m\u001b[0;34m(\u001b[0m\u001b[0mpred2\u001b[0m\u001b[0;34m,\u001b[0m \u001b[0mtrue2\u001b[0m\u001b[0;34m,\u001b[0m \u001b[0;36m1000\u001b[0m\u001b[0;34m,\u001b[0m \u001b[0msample_size\u001b[0m\u001b[0;34m=\u001b[0m\u001b[0msample_size\u001b[0m\u001b[0;34m)\u001b[0m\u001b[0;34m\u001b[0m\u001b[0;34m\u001b[0m\u001b[0m\n\u001b[0;32m----> 4\u001b[0;31m     \u001b[0meffect_size\u001b[0m \u001b[0;34m=\u001b[0m \u001b[0mcompare\u001b[0m\u001b[0;34m(\u001b[0m\u001b[0msamples1\u001b[0m\u001b[0;34m,\u001b[0m \u001b[0msamples2\u001b[0m\u001b[0;34m,\u001b[0m \u001b[0mr2_score\u001b[0m\u001b[0;34m,\u001b[0m \u001b[0mverbose\u001b[0m\u001b[0;34m=\u001b[0m\u001b[0;32mFalse\u001b[0m\u001b[0;34m)\u001b[0m\u001b[0;34m\u001b[0m\u001b[0;34m\u001b[0m\u001b[0m\n\u001b[0m\u001b[1;32m      5\u001b[0m     \u001b[0;32mreturn\u001b[0m \u001b[0meffect_size\u001b[0m\u001b[0;34m\u001b[0m\u001b[0;34m\u001b[0m\u001b[0m\n",
      "\u001b[0;32m<ipython-input-3-af3264654e48>\u001b[0m in \u001b[0;36mcompare\u001b[0;34m(samples1, samples2, fun, requires_y_true, verbose)\u001b[0m\n\u001b[1;32m     22\u001b[0m     \u001b[0;32mif\u001b[0m \u001b[0mrequires_y_true\u001b[0m \u001b[0;32mis\u001b[0m \u001b[0;32mNone\u001b[0m\u001b[0;34m:\u001b[0m\u001b[0;34m\u001b[0m\u001b[0;34m\u001b[0m\u001b[0m\n\u001b[1;32m     23\u001b[0m         \u001b[0mrequires_y_true\u001b[0m \u001b[0;34m=\u001b[0m \u001b[0;32mFalse\u001b[0m\u001b[0;34m\u001b[0m\u001b[0;34m\u001b[0m\u001b[0m\n\u001b[0;32m---> 24\u001b[0;31m         \u001b[0;32mif\u001b[0m \u001b[0;34m'y_true_bootstrap'\u001b[0m \u001b[0;32min\u001b[0m \u001b[0msamples\u001b[0m\u001b[0;34m:\u001b[0m\u001b[0;34m\u001b[0m\u001b[0;34m\u001b[0m\u001b[0m\n\u001b[0m\u001b[1;32m     25\u001b[0m             \u001b[0mrequires_y_true\u001b[0m \u001b[0;34m=\u001b[0m \u001b[0;32mTrue\u001b[0m\u001b[0;34m\u001b[0m\u001b[0;34m\u001b[0m\u001b[0m\n\u001b[1;32m     26\u001b[0m     \u001b[0mout1\u001b[0m \u001b[0;34m=\u001b[0m \u001b[0mapply_fun\u001b[0m\u001b[0;34m(\u001b[0m\u001b[0msamples1\u001b[0m\u001b[0;34m,\u001b[0m \u001b[0mfun\u001b[0m\u001b[0;34m,\u001b[0m \u001b[0mrequires_y_true\u001b[0m\u001b[0;34m)\u001b[0m\u001b[0;34m\u001b[0m\u001b[0;34m\u001b[0m\u001b[0m\n",
      "\u001b[0;31mNameError\u001b[0m: name 'samples' is not defined"
     ]
    }
   ],
   "source": [
    "# full sample\n",
    "start = time()\n",
    "results = []\n",
    "for comparison_noise in noises:\n",
    "    pred1 = true1 + np.random.normal(size=n1)*.4\n",
    "    pred2 = true2 + np.random.normal(size=n2)*comparison_noise\n",
    "    results.append(evaluate(pred1, true1, pred2, true2))\n",
    "full_boot = pd.Series(results, index=noises, name='full')\n",
    "full_time = time()-start"
   ]
  },
  {
   "cell_type": "code",
   "execution_count": null,
   "id": "9d6cee3b",
   "metadata": {},
   "outputs": [],
   "source": [
    "series = []\n",
    "times = []\n",
    "sample_sizes = np.arange(100,5000, 500)\n",
    "for sample_size in sample_sizes:\n",
    "    results = []\n",
    "    start = time()\n",
    "    for comparison_noise in noises:\n",
    "        pred1 = true1 + np.random.normal(size=n1)*.4\n",
    "        pred2 = true2 + np.random.normal(size=n2)*comparison_noise\n",
    "        results.append(evaluate(pred1, true1, pred2, true2, sample_size=sample_size))\n",
    "    series.append(pd.Series(results, index=noises, name=sample_size))\n",
    "    times.append(time()-start)"
   ]
  },
  {
   "cell_type": "code",
   "execution_count": null,
   "id": "fbde3385",
   "metadata": {},
   "outputs": [],
   "source": [
    "df = pd.concat(series + [full_boot], axis=1)"
   ]
  },
  {
   "cell_type": "code",
   "execution_count": null,
   "id": "066ee299",
   "metadata": {},
   "outputs": [],
   "source": [
    "df.plot()"
   ]
  },
  {
   "cell_type": "code",
   "execution_count": null,
   "id": "999c2c9c",
   "metadata": {},
   "outputs": [],
   "source": [
    "# time taken\n",
    "pd.Series([full_time] + times, index= ['full'] + list(sample_sizes))"
   ]
  }
 ],
 "metadata": {
  "kernelspec": {
   "display_name": "Python 3 (ipykernel)",
   "language": "python",
   "name": "python3"
  },
  "language_info": {
   "codemirror_mode": {
    "name": "ipython",
    "version": 3
   },
   "file_extension": ".py",
   "mimetype": "text/x-python",
   "name": "python",
   "nbconvert_exporter": "python",
   "pygments_lexer": "ipython3",
   "version": "3.9.9"
  }
 },
 "nbformat": 4,
 "nbformat_minor": 5
}
